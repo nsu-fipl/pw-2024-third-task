{
 "cells": [
  {
   "cell_type": "markdown",
   "id": "676331d5b7c6f912",
   "metadata": {
    "collapsed": false
   },
   "source": [
    "# Гарри Поттер и Последний Крестраж "
   ]
  },
  {
   "cell_type": "markdown",
   "id": "07ca8d94",
   "metadata": {},
   "source": [
    "```- Ай! - неожиданно воскликнул Гарри и запнулся. - Только не это!```\n",
    "\n",
    "```Они с Джинни гуляли по парку Сент-Джеймс.``` \n",
    "```Джинни была с коляской - сегодня выдалась редкая возможность провести время вместе: в последнее время Гарри приходилось почти ночевать на работе, отношения между магами и великанами были крайне неспокойны, и это затронуло все отделы Министерства Магии.```\n",
    "\n",
    "```- У меня заболел шрам. - Гарри сказал это с такой тревогой в голосе, которую Джинни не слышала уже много  лет. - Это может означать только одно...```\n",
    "\n",
    "```- Похоже, он вернулся!```\n",
    "\n",
    "```Волан-Де-Морт вернулся. Эта мысль не давала покоя уже несколько недель неразлучной троице - Гарри, Рону и``` ```Гермионе. Гермиона перерыла все книги, которые хоть как-то относились к крестражам. Все, что она нашла в них```\n",
    "``` - детальные подробности устройства крестражей, которые были настолько скучны и бесполезны, что, казалось, ```\n",
    "```были еще одним видом Круциатуса, только более изощеренным.```\n",
    " ```Гарри уже тошнило от разговоров с бывшими Пожирателями Смерти. Они лишь делали многозначительный вид, ```\n",
    " ```пытались хитрить, но толком сами ничего не знали. Некоторые из них были в полнейшем ужасе - они уже и```\n",
    " ``` думать о забыли о своем бывшем властелине и уже долгие года пытались всеми силами искупить ошибки прошлого.```\n",
    " ```Но, кажется, у троицы наконец появилась зацепка. По крайней мере так утверждал Рон, именно он инициировал собрание в Дырявом Котле этим вечером.```\n",
    " \n",
    " ```- Вы не поверите, что мне рассказал отец! - Рон практически вскричал это при встрече, настолько громко, что```\n",
    "```малочисленные посетители Дырявого Котла стали оглядываться, а Гарри и Гермиона стали возмущенно шикать. ``` \n",
    "```- Кажется, есть еще один крестраж. И этот крестраж в мире маглов!```  \n",
    " ```- Не так давно в их секторе производили инвентаризацию - хоть и с запинкой, но Рон вспомнил это сложное ``` \n",
    " ```слово маглов - Один из предметов, который они нашли - это компьютер, который был в убежище Пожирателей ``` \n",
    " ```Смерти. Он был под паролем, но ничего такого, с чем не справится Алохомора...```\n",
    "\n",
    " ```- И что же? - поторопил его Гарри```  \n",
    " ```- И то же! На этом компьютере была информация, которая, кажется, относится к последнему крестражу. Но есть```\n",
    " ``` небольшая проблема - даже отец не разбирается настолько хорошо в магловских технологиях, чтобы понять, что```\n",
    " ``` зашифровано в этих файлах. - Рон сокрушенно покачал головой.```  \n",
    " ```- Вроде бы у нас и есть ответ, а вроде бы и нет - задумчиво сказала Гермиона. - Хотя...Думаю, я знаю к кому нам обратиться!```"
   ]
  },
  {
   "cell_type": "markdown",
   "id": "63c3ea51ae526cef",
   "metadata": {
    "collapsed": false
   },
   "source": [
    "![cauldron](cauldron.png)"
   ]
  },
  {
   "cell_type": "markdown",
   "id": "866204b719d8c638",
   "metadata": {
    "collapsed": false
   },
   "source": [
    "### Описание"
   ]
  },
  {
   "cell_type": "markdown",
   "id": "3381c8168767dd76",
   "metadata": {
    "collapsed": false
   },
   "source": [
    "Ваша задача - помочь неразлучной тройке расшифровать загадочное послание, оставленное на компьютере Артура Уизли. В каждой части послания зашифрован очередной кусочек информации о крестраже:\n",
    "- где он находится\n",
    "- как его уничтожить\n",
    "- какая его форма\n",
    "\n",
    "Если вы выполните задание до дедлайна, то у вас будет реальный шанс помочь в борьбе с Волан-Де-Мортом!\n",
    "\n",
    "Все задания нужно решать в файле `potter.py`."
   ]
  },
  {
   "cell_type": "markdown",
   "id": "776dce2aacd4d700",
   "metadata": {
    "collapsed": false
   },
   "source": [
    "### CSV"
   ]
  },
  {
   "cell_type": "markdown",
   "id": "cc0e2361e2f9c227",
   "metadata": {
    "collapsed": false
   },
   "source": [
    "Первая часть информации - о том, где можно найти крестраж, скрывается в файле формата `CSV`. Этот формат чаще всего используется для экспорта / импорта данных в базу данных или в Excel. Выглядят такие файлы следующим образом:\n",
    "- на первой строке располагаются названия столбцов\n",
    "- на последующих располагаются строки с данными таблицы\n",
    "- значения разделены с помощью запятой\n",
    "- если в значении есть какой-то зарезервированный символ (`,`, `\"`, `;`, переход на следующую строку), то строка обрамляется в двойные кавычки"
   ]
  },
  {
   "cell_type": "markdown",
   "id": "f738febccb75c22d",
   "metadata": {
    "collapsed": false
   },
   "source": [
    "*Пример:* \n",
    "\n",
    "Для файла с заклинаниями:\n",
    "```\n",
    "Spell ID,Incantation,Spell Name,Effect,Light\n",
    "1,Accio,Summoning Charm,Summons an object,\n",
    "2,Aguamenti,Water-Making Spell,Conjures water,Icy blue\n",
    "3,Alarte Ascendare,\"Object goes up, into the air\",Rockets target upward,Red\n",
    "```\n",
    "\n",
    "Таблица будет выглядеть:\n",
    "\n",
    "| Spell ID | Incantation      | Spell Name                    | Effect                | Light    |\n",
    "|----------|------------------|-------------------------------|-----------------------|----------|\n",
    "| 1        | Accio            | Summoning Charm               | Summons an object     |          | \n",
    "| 2        | Aguamenti        | Water-Making Spell            | Conjures water        | Icy blue |  \n",
    "| 3        | Alarte Ascendare | Object goes up, into the air  | Rockets target upward | Red      |\n",
    "\n",
    "\n",
    "Обратите внимание:\n",
    "- После последнего столбца запятая не ставится\n",
    "- Если для какого-то столбца значение пустое, то запятую все равно поставить нужно (как в первой строке, цвета заклинания нет, но запятая есть)\n",
    "- Если в строке есть спецсимволы, то она должна быть в кавычках (как третья строка). Кавычки при рендеринге убираются"
   ]
  },
  {
   "cell_type": "markdown",
   "id": "f8f2ca4420264ae6",
   "metadata": {
    "collapsed": false
   },
   "source": [
    "### CSV файлы в Python"
   ]
  },
  {
   "cell_type": "markdown",
   "id": "1ab3d806dd0e19de",
   "metadata": {
    "collapsed": false
   },
   "source": [
    "В Python для работы с CSV файлами используется модуль [csv](https://docs.python.org/3/library/csv.html).  \n",
    "\n",
    "Чтобы прочесть содержимое файла, можно воспользоваться `csv.DictReader()`. Туда можно передать аргумент `fieldnames` - список с названиями столбцов (если их не передать, то считаем, что они написаны в файле в первой строке).\n",
    "\n",
    "*Пример:*"
   ]
  },
  {
   "cell_type": "code",
   "execution_count": 4,
   "id": "dc1b7a854abaa98c",
   "metadata": {
    "ExecuteTime": {
     "end_time": "2024-03-08T12:36:35.012293Z",
     "start_time": "2024-03-08T12:36:34.952381Z"
    },
    "collapsed": false
   },
   "outputs": [
    {
     "name": "stdout",
     "output_type": "stream",
     "text": [
      "Accio\n",
      "Summons an object\n",
      "Aguamenti\n",
      "Conjures water\n",
      "Alarte Ascendare\n",
      "Rockets target upward\n"
     ]
    }
   ],
   "source": [
    "import csv\n",
    "\n",
    "with open('spells.csv', newline='') as f:\n",
    "    reader = csv.DictReader(f)\n",
    "    for row in reader:\n",
    "        print(row['Incantation'])\n",
    "        print(row['Effect'])"
   ]
  },
  {
   "cell_type": "markdown",
   "id": "ccc7a0b4aa0d4d38",
   "metadata": {
    "collapsed": false
   },
   "source": [
    "Как вы могли заметить, в этом способе `row`, возвращаемый из `DictReader` при итерации, является словарем, в котором ключ - название столбца, а значение - значение этого столбца для текущей строки таблицы.  \n",
    "Помимо этого, файлы можно читать с помощью `csv.reader()`. В этом случае вместо словаря каждая строка файла будет представлена как список со значениями столбцов. Подробности можно прочесть в документации\n",
    "\n",
    "Помимо чтения, можно еще данные в csv формате и записывать. Делается это с помощью `csv.writer` и `csv.DictWriter`. Давайте посмотрим, как работать с последним:  "
   ]
  },
  {
   "cell_type": "code",
   "execution_count": 5,
   "id": "7f020d057e6459bd",
   "metadata": {
    "ExecuteTime": {
     "end_time": "2024-03-08T12:36:35.060065Z",
     "start_time": "2024-03-08T12:36:34.960138Z"
    },
    "collapsed": false
   },
   "outputs": [],
   "source": [
    "import csv\n",
    "\n",
    "with open('characters.csv', 'w') as f:\n",
    "    writer = csv.DictWriter(f, fieldnames=['Id', 'Character', 'Age in first book'])\n",
    "    writer.writeheader()\n",
    "    writer.writerow({'Id': '1', 'Character': 'Harry', 'Age in first book': '11'})"
   ]
  },
  {
   "cell_type": "markdown",
   "id": "6acaa7f43158f288",
   "metadata": {
    "collapsed": false
   },
   "source": [
    "### Задание\n",
    "\n",
    "В файле `avito.csv` лежит набор данных об объявлениях с сайта авито за 2021 год.\n",
    "Вам нужно написать в файле `potter.py` функцию `find_place(filename)`, которая ищет записи с параметрами:\n",
    "- город указан Новосибирск\n",
    "- цена товара от 4 до 5 тысяч (включая товары за 4 и 5 тысяч)\n",
    "\n",
    "*Здесь и далее `filename` - это параметр, через который передаем имя файла с данными, которые нужно обработать* \n",
    "\n",
    "Все найденные записи функция сохраняет в файл `where.csv`. При этом нужно сохранить не все столбцы, а только:\n",
    "- product_price\n",
    "- product_title\n",
    "\n",
    "В итоговом файле их нужно записать как `price` и `title`.\n",
    "\n",
    "После того как вы найдете все такие записи, откройте созданный файл `where.csv`. Предмет, который продается - это место, где нужно искать крестраж.\n",
    "\n",
    "**Подсказки**\n",
    "\n",
    "- Если у вас при открытии файла `avito.csv` питон падает и ругается на неправильную кодировку, то попробуйте в `open` передавать именованный параметр `encoding='utf-8'`\n",
    "- Если у вас в `where.csv` при записи появляются лишние пустые строки между записями, то попробуйте в `open` передать именованные параметр `newline=''`"
   ]
  },
  {
   "cell_type": "markdown",
   "id": "af391804f1ed8ef8",
   "metadata": {
    "collapsed": false
   },
   "source": [
    "### XML\n",
    "\n",
    "Теперь узнаем, что же нужно сделать с крестражем, когда мы его найдем.\n",
    "Для этого изучим еще один популярный формат данных - XML.\n",
    "\n",
    "XML файлы выглядят примерно так:\n",
    "```xml\n",
    "<books>\n",
    "    <book title=\"sourcers stone\">\n",
    "        <chapters>\n",
    "            <chapter>The Boy Who Lived</chapter>\n",
    "            <chapter>The Vanishing Glass</chapter>\n",
    "            <chapter>The Letters from No One</chapter>\n",
    "            <chapter>The Keeper of the Keys</chapter>\n",
    "            <chapter>Diagon Alley</chapter>\n",
    "            <chapter>The Journey from Platform Nine and Three-quarters</chapter>\n",
    "            <chapter>The Sorting Hat</chapter>\n",
    "            <chapter>The Potions Master</chapter>\n",
    "            <chapter>The Midnight Duel</chapter>\n",
    "            <chapter>Halloween</chapter>\n",
    "            <chapter>Quidditch</chapter>\n",
    "            <chapter>The Mirror of Erised</chapter>\n",
    "            <chapter>Nicolas Flamel</chapter>\n",
    "            <chapter>Norbert The Norwegian Ridgeback</chapter>\n",
    "            <chapter>The Forbidden Forest</chapter>\n",
    "            <chapter>Through the Trapdoor</chapter>\n",
    "            <chapter>The Man with Two Faces.</chapter>\n",
    "        </chapters>\n",
    "        <extra/>\n",
    "    </book>\n",
    "</books>\n",
    "```\n",
    "\n",
    "Он состоит из:\n",
    "- тегов  \n",
    "Тег - это все в угловых скобках (включая сами скобки). Бывает три вида тегов - открывающий (например, `<book>`), закрывающий (например, `</chapters>`) и пустой (`<extra/>`). У них внутри есть содержимое (кроме пустых тегов, например `<extra/>` эквивалентен `<extra></extra>`, просто короче)\n",
    "- аттрибутов  \n",
    "У тегов могут быть аттрибуты, последовательность пар ключ=значение. Например, у тега `book` есть аттрибут `title`, который в данном случае равен `sourcers stone`\n",
    "- содержимого тегов  \n",
    "Это то, что написано внутри тега. Например, для `<chapter>Nicolas Flamel</chapter>` содержимое - это `Nicolas Flamel`\n",
    "- элементов  \n",
    "Это тег + его содержимое. Например, есть элемент `<chapter>Diagon Alley</chapter>`"
   ]
  },
  {
   "cell_type": "markdown",
   "id": "0cbd776e",
   "metadata": {},
   "source": [
    "### XML файлы в Python\n",
    "\n",
    "Для работы с XML файлами в Python есть модуль [xml.etree.ElementTree](https://docs.python.org/3/library/xml.etree.elementtree.html#module-xml.etree.ElementTree)\n",
    "\n",
    "Он предоставляет два варианта чтения из `xml`-файла: инкрементальный и полный. При инкрементальном чтении файл читается \"по строкам\", а уже ненужная информация может быть \"забыта\". Это нужно, чтобы при чтении очень больших `xml`-файлов не хранить все в оперативной памяти компьютера - она может закончится и ваша программа просто вылетит. Если же ваш файл не больше, например, гигабайта, то вы можете прочесть его весь в память, скорее всего, ваш компьютер выдержит.\n",
    "\n",
    "Далее будут разобраны оба способа чтения `xml`-файлов, вы можете использовать какой захотите в задании, на тесты это не повлияет. Инкрементальный способ гораздо сложнее, но чаще используется в реальных условиях. Также можно начать с полного чтения `xml`-файла, тогда инкрементальный способ понять будет проще"
   ]
  },
  {
   "cell_type": "markdown",
   "id": "87a70383",
   "metadata": {},
   "source": [
    "#### Полное чтение `xml`-файла\n",
    "\n",
    "Для того, чтобы прочитать файл, можно воспользоваться функцией `parse`. В нее нужно передать название `xml`-файла. Она отдаст вам древовидное представление файла, после чего у него можно будет получить корневой элемент, воспользовавшись функцией `getroot`. Этот элемент будет по сути содержать всю информацию из файла.\n",
    "\n",
    "После чего над этим элементом можно производить следующие операции:\n",
    "- `elem.iter('название тега')` - получить все вложенные теги с заданным именем (рекурсивно)\n",
    "- `next(elem.iter('название тега')` - найти первый вложенный тег с заданным именем (рекурсивно)\n",
    "- `elem.find('название тега')` - найти вложенный тег с заданным именем (не рекурсивно)\n",
    "- `elem.findall('название тега')` - получать все вложенные теги с заданным именем (не рекурсивно)\n",
    "- `elem.get('название атрибута')` - получить значение какого-то атрибута текущего тага\n",
    "- `elem.text` - получить текст тега\n",
    "- `elem.tag` - получить название тега\n",
    "\n",
    "*Пример - делаем словарь, где ключ - название книги, а значение - количество глав:*"
   ]
  },
  {
   "cell_type": "code",
   "execution_count": 6,
   "id": "f2f5c4f6",
   "metadata": {},
   "outputs": [
    {
     "name": "stdout",
     "output_type": "stream",
     "text": [
      "{'sourcers stone': 17}\n"
     ]
    }
   ],
   "source": [
    "import xml.etree.ElementTree as etree\n",
    "\n",
    "tree = etree.parse('books.xml') # получаем древовидное представление файла\n",
    "root = tree.getroot() # получаем корневой элемент, в нашем случае это тег <books> со всем содержимым\n",
    "\n",
    "n_chapters = {}\n",
    "for elem in root: # читаем все подэлементы в books, т.е все <book> по очереди\n",
    "    title = elem.get('title') # берем название книги\n",
    "    ch = 0\n",
    "    # альтернативно можно было бы сделать len(elem.iter('chapters')), здесь цикл для примера обхода\n",
    "    for chapter in elem.iter('chapter'): # используем iter, поскольку chapter вложен в chapters, то есть find их уже не найдет, глубоко \n",
    "        ch += 1\n",
    "        n_chapters[title] = ch\n",
    "\n",
    "print(n_chapters)"
   ]
  },
  {
   "cell_type": "markdown",
   "id": "611dd9da8f915609",
   "metadata": {
    "collapsed": false
   },
   "source": [
    "#### Инкрементальное чтение `xml`-файла\n",
    "\n",
    "Чтобы обойти файл можно воспользоваться функцией `iterparse`. В нее нужно передать два аргумента - файл, из которого читаем данные и то, какие события ожидаем. Файл читается инкрементально, поэтому в процессе чтения у вас функция будет возвращать пары `event` и `element`. Например:\n"
   ]
  },
  {
   "cell_type": "code",
   "execution_count": 7,
   "id": "3cee2a370dde2892",
   "metadata": {
    "ExecuteTime": {
     "end_time": "2024-03-08T12:36:35.062204Z",
     "start_time": "2024-03-08T12:36:34.986005Z"
    },
    "collapsed": false
   },
   "outputs": [
    {
     "name": "stdout",
     "output_type": "stream",
     "text": [
      "event: start\n",
      "this event happened for element with tag: book\n",
      "----------\n",
      "event: start\n",
      "this event happened for element with tag: chapters\n",
      "----------\n",
      "event: start\n",
      "this event happened for element with tag: chapter\n",
      "----------\n",
      "event: end\n",
      "this event happened for element with tag: chapter\n",
      "----------\n",
      "event: start\n",
      "this event happened for element with tag: chapter\n",
      "----------\n",
      "event: end\n",
      "this event happened for element with tag: chapter\n",
      "----------\n",
      "event: start\n",
      "this event happened for element with tag: chapter\n",
      "----------\n",
      "event: end\n",
      "this event happened for element with tag: chapter\n",
      "----------\n",
      "event: start\n",
      "this event happened for element with tag: chapter\n",
      "----------\n",
      "event: end\n",
      "this event happened for element with tag: chapter\n",
      "----------\n",
      "event: start\n",
      "this event happened for element with tag: chapter\n",
      "----------\n",
      "event: end\n",
      "this event happened for element with tag: chapter\n",
      "----------\n",
      "event: start\n",
      "this event happened for element with tag: chapter\n",
      "----------\n",
      "event: end\n",
      "this event happened for element with tag: chapter\n",
      "----------\n",
      "event: start\n",
      "this event happened for element with tag: chapter\n",
      "----------\n",
      "event: end\n",
      "this event happened for element with tag: chapter\n",
      "----------\n",
      "event: start\n",
      "this event happened for element with tag: chapter\n",
      "----------\n",
      "event: end\n",
      "this event happened for element with tag: chapter\n",
      "----------\n",
      "event: start\n",
      "this event happened for element with tag: chapter\n",
      "----------\n",
      "event: end\n",
      "this event happened for element with tag: chapter\n",
      "----------\n",
      "event: start\n",
      "this event happened for element with tag: chapter\n",
      "----------\n",
      "event: end\n",
      "this event happened for element with tag: chapter\n",
      "----------\n",
      "event: start\n",
      "this event happened for element with tag: chapter\n",
      "----------\n",
      "event: end\n",
      "this event happened for element with tag: chapter\n",
      "----------\n",
      "event: start\n",
      "this event happened for element with tag: chapter\n",
      "----------\n",
      "event: end\n",
      "this event happened for element with tag: chapter\n",
      "----------\n",
      "event: start\n",
      "this event happened for element with tag: chapter\n",
      "----------\n",
      "event: end\n",
      "this event happened for element with tag: chapter\n",
      "----------\n",
      "event: start\n",
      "this event happened for element with tag: chapter\n",
      "----------\n",
      "event: end\n",
      "this event happened for element with tag: chapter\n",
      "----------\n",
      "event: start\n",
      "this event happened for element with tag: chapter\n",
      "----------\n",
      "event: end\n",
      "this event happened for element with tag: chapter\n",
      "----------\n",
      "event: start\n",
      "this event happened for element with tag: chapter\n",
      "----------\n",
      "event: end\n",
      "this event happened for element with tag: chapter\n",
      "----------\n",
      "event: start\n",
      "this event happened for element with tag: chapter\n",
      "----------\n",
      "event: end\n",
      "this event happened for element with tag: chapter\n",
      "----------\n",
      "event: end\n",
      "this event happened for element with tag: chapters\n",
      "----------\n",
      "event: start\n",
      "this event happened for element with tag: extra\n",
      "----------\n",
      "event: end\n",
      "this event happened for element with tag: extra\n",
      "----------\n",
      "event: end\n",
      "this event happened for element with tag: book\n",
      "----------\n",
      "event: end\n",
      "this event happened for element with tag: books\n",
      "----------\n"
     ]
    }
   ],
   "source": [
    "import xml.etree.ElementTree as etree\n",
    "\n",
    "it = iter(etree.iterparse(\"books.xml\", events=[\"start\", \"end\"])) # объект, который будет итеративно читать файл и возвращать нам информацию о прогрессе\n",
    "_, root = next(it) # читаем только первую строку из файла. это будет начало самого верхнеуровнего элемента\n",
    "\n",
    "for event, elem in it: # читаем все последующие\n",
    "    print(f\"event: {event}\") # всегда start или end\n",
    "    print(f\"this event happened for element with tag: {elem.tag}\")\n",
    "    print('-' * 10)"
   ]
  },
  {
   "cell_type": "markdown",
   "id": "6eddfaea952b3a91",
   "metadata": {
    "collapsed": false
   },
   "source": [
    "Кроме того, при чтении нужно удалять уже прочитанную и обработанную информацию. Это нужно для того, чтобы у вас данные не засоряли оперативную память: ведь если данных будет слишком много, то память закончится и программа вылетит в самый неожиданный момент! Чтобы удалить уже прочитанную информацию, можно периодически вызывать в цикле `root.clear()`, чуть ниже будет пример\n",
    "\n",
    "Чтобы делать что-то с найденными тегами, можно воспользоваться одной из следующих функций:\n",
    "- `elem.iter('название тега')` - получить все вложенные теги с заданным именем (рекурсивно)\n",
    "- `next(elem.iter('название тега')` - найти первый вложенный тег с заданным именем (рекурсивно)\n",
    "- `elem.find('название тега')` - найти вложенный тег с заданным именем (не рекурсивно)\n",
    "- `elem.findall('название тега')` - получать все вложенные теги с заданным именем (не рекурсивно)\n",
    "- `elem.get('название атрибута')` - получить значение какого-то атрибута текущего тага\n",
    "- `elem.text` - получить текст тега\n",
    "- `elem.tag` - получить название тега"
   ]
  },
  {
   "cell_type": "markdown",
   "id": "ff1da6e0645b515e",
   "metadata": {
    "collapsed": false
   },
   "source": [
    "*Пример - делаем словарь, где ключ - название книги, а значение - количество глав:*"
   ]
  },
  {
   "cell_type": "code",
   "execution_count": 8,
   "id": "9a8dea6c2c003263",
   "metadata": {
    "ExecuteTime": {
     "end_time": "2024-03-08T12:36:35.062718Z",
     "start_time": "2024-03-08T12:36:34.995472Z"
    },
    "collapsed": false
   },
   "outputs": [
    {
     "name": "stdout",
     "output_type": "stream",
     "text": [
      "{'sourcers stone': 17}\n"
     ]
    }
   ],
   "source": [
    "import xml.etree.ElementTree as etree\n",
    "\n",
    "it = iter(etree.iterparse(\"books.xml\", events=[\"start\", \"end\"])) # объект, который будет итеративно читать файл и возвращать нам информацию о прогрессе\n",
    "_, root = next(it) # читаем только первую строку из файла. это будет начало самого верхнеуровнего элемента\n",
    "\n",
    "n_chapters = {}\n",
    "clear_root = True\n",
    "for event, elem in it: # читаем все последующие\n",
    "    if elem.tag == 'book':\n",
    "        if event == 'start':\n",
    "            # мы только начали читать из файла информацию про очередную книгу\n",
    "            # если мы будем в следующие разы вызывать root.clear(), то информация о ней будет удаляться каждый раз\n",
    "            clear_root = False\n",
    "        else:\n",
    "            # сейчас event == 'end', значит, мы дочитали из файла информацию об очередной книге. можно очищать root, мы сейчас информацию о ней себе запишем\n",
    "            clear_root = True\n",
    "            title = elem.get('title') # берем название книги\n",
    "            ch = 0\n",
    "            # альтернативно можно было бы сделать len(elem.iter('chapters')), здесь цикл для примера обхода\n",
    "            for chapter in elem.iter('chapter'): # используем iter, поскольку chapter вложен в chapters, то есть find их уже не найдет, глубоко \n",
    "                ch += 1\n",
    "            n_chapters[title] = ch\n",
    "    if clear_root:\n",
    "        # удалить из оперативной памяти прочитанную информацию\n",
    "        root.clear()\n",
    "\n",
    "print(n_chapters)"
   ]
  },
  {
   "cell_type": "markdown",
   "id": "9872423f6b1d3160",
   "metadata": {
    "collapsed": false
   },
   "source": [
    "### Задание\n",
    "\n",
    "В файле `opcorpora.xml` лежат размеченные тексты на русском, в формате xml. \n",
    "Ваша задача - написать функцию `find_method(filename)`, которая ищет в файле самый употребимый глагол. \n",
    "Будем считать, что глаголы только те слова в файле, которые помечены как `VERB`.\n",
    "Функция должна возвращать форму глагола, которая лежит в теге `l`.\n",
    "\n",
    "Найденный глагол и будет тем способом, которым можно уничтожить крестраж."
   ]
  },
  {
   "cell_type": "markdown",
   "id": "8265e7792e7a81d3",
   "metadata": {
    "collapsed": false
   },
   "source": [
    "*Подсказка для итеративной версии*:\n",
    "\n",
    "У xml файла довольно сложная структура, рекомендуется:\n",
    "- проверять события связанные с тегом `token`\n",
    "- внутри него искать первый тег `g` (рекурсивно!)\n",
    "- смотреть у этого тега атрибут `v` (часть речи)\n",
    "- аналогично искать атрибут `l` и для него тег `t` (тоже рекурсивно!)\n",
    "- не забудьте чистить корневой узел в нужные моменты\n",
    "\n",
    "\n",
    "*Подсказка для полной версии*:\n",
    "\n",
    "У xml файла довольно сложная структура, рекомендуется:\n",
    "- рекурсивно получать все теги `token`\n",
    "- для каждого из них искать первый тег `g` (рекурсивно!)\n",
    "- смотреть у этого тега атрибут `v` (часть речи)\n",
    "- аналогично искать атрибут `l` и для него тег `t` (тоже рекурсивно!)"
   ]
  },
  {
   "cell_type": "markdown",
   "id": "ac33593b905c3ada",
   "metadata": {
    "collapsed": false
   },
   "source": [
    "### JSON\n",
    "\n",
    "Осталось совсем немного - давайте выясним, какую же форму принял крестраж!\n",
    "\n",
    "Последний из форматов файлов, который нам осталось изучить - Json файлы. Разберем его на примере:\n",
    "```\n",
    "{\n",
    "  \"movies\": [\n",
    "  {\n",
    "    \"name\": \"Harry Potter and the Half-Blood Prince\",\n",
    "    \"year_release\": 2009,\n",
    "    \"main_actors\": [{\"name\": \"Daniel Radcliffe\", \"role\": \"Harry Potter\"}, {\"name\": \"Rupert Grint\", \"role\": \"Ron Weasly\"}, {\"name\": \"Emma Watson\", \"role\": \"Hermione Granger\"}],\n",
    "    \"score\": null,\n",
    "    \"liked\": true\n",
    "  },\n",
    "  {\n",
    "    \"name\": \"Harry Potter and the Order of the Phoenix\",\n",
    "    \"year_release\": 2007,\n",
    "    \"main_actors\": [{\"name\": \"Daniel Radcliffe\", \"role\": \"Harry Potter\"}, {\"name\": \"Rupert Grint\", \"role\": \"Ron Weasly\"}, {\"name\": \"Emma Watson\", \"role\": \"Hermione Granger\"}],\n",
    "    \"score\": 5.0,\n",
    "    \"liked\": true\n",
    "  }\n",
    "  ]\n",
    "}\n",
    "```\n",
    "\n",
    "Как видите, в json все представлено в виде пар ключ-значение. Ключи могут быть:\n",
    "- числами\n",
    "- строками (в двойных кавычках)\n",
    "\n",
    "Значения могут быть:\n",
    "- строками\n",
    "- числами (в том числе дробными)\n",
    "- литералами `null`, `true`, `false`\n",
    "- массивами\n",
    "- объектами\n",
    "\n",
    "Массив - это последовательность значений, заключенных в квадратные скобки и перечисленных через запятую (пример - `main_actors`)\n",
    "Объект - это последовательность пар ключ-значение, перечисленных через запятую. Ключ и значение разделены двоеточием (пример - значения в массиве `movies`)"
   ]
  },
  {
   "cell_type": "markdown",
   "id": "4b7c7e62efc1f698",
   "metadata": {
    "collapsed": false
   },
   "source": [
    "### Json файлы в Python\n",
    "\n",
    "В Python, как это не удивительно, для работы с Json файлами используется модуль-библиотека [json](https://docs.python.org/3/library/json.html).\n",
    "\n",
    "Для того чтобы считать json файл, достаточно воспользоваться функцией `json.load()`:\n",
    " "
   ]
  },
  {
   "cell_type": "code",
   "execution_count": 9,
   "id": "2dc9cb648e88c700",
   "metadata": {
    "ExecuteTime": {
     "end_time": "2024-03-08T12:36:35.063172Z",
     "start_time": "2024-03-08T12:36:35.002700Z"
    },
    "collapsed": false
   },
   "outputs": [
    {
     "name": "stdout",
     "output_type": "stream",
     "text": [
      "Harry Potter and the Half-Blood Prince\n",
      "Harry Potter and the Order of the Phoenix\n"
     ]
    }
   ],
   "source": [
    "import json\n",
    "\n",
    "with open('mdb.json') as f:\n",
    "    movies = json.load(f)\n",
    "    for movie in movies['movies']:\n",
    "        print(movie['name'])"
   ]
  },
  {
   "cell_type": "markdown",
   "id": "659a64ca4c5411fa",
   "metadata": {
    "collapsed": false
   },
   "source": [
    "Чтобы записать в файл используется функция `json.dump()`:"
   ]
  },
  {
   "cell_type": "code",
   "execution_count": 10,
   "id": "40dab6341c593231",
   "metadata": {
    "ExecuteTime": {
     "end_time": "2024-03-08T12:36:35.075787Z",
     "start_time": "2024-03-08T12:36:35.009047Z"
    },
    "collapsed": false
   },
   "outputs": [],
   "source": [
    "with open('result.json', 'w') as f:\n",
    "    students = [{\"name\": \"Harry\", \"age\": 11}, {\"name\": \"Ron\", \"age\": 11}, {\"name\": \"Hermione\", \"age\": 12}]\n",
    "    json.dump(students, f, indent=2)"
   ]
  },
  {
   "cell_type": "markdown",
   "id": "b51a0c1ccdc15806",
   "metadata": {
    "collapsed": false
   },
   "source": [
    "### Задание\n",
    "\n",
    "В файле `movies.json` лежат диалоги из всех частей фильма о Гарри Поттере. Вам нужно написать функцию `find_item(filename)` в которой:\n",
    "- найти сцены, в которых 1) есть Дамблдор 2) могут быть Гарри, Рон и Гермиона (в т.ч. по отдельности) 3) больше никого нет\n",
    "- взять все слова из реплик Дамблдора (не забудьте привести их к нижнему регистру с помощью `lower()`). чтобы получить слова можно просто разбить его реплики по пробелам\n",
    "- подсчитать, какое слово сколько раз встречается\n",
    "- вернуть список с топ-20 по встречаемости слов\n",
    "\n",
    "19 слово в списке и будет той формой, которую обрел крестраж."
   ]
  },
  {
   "cell_type": "markdown",
   "id": "694c4ec832728eff",
   "metadata": {
    "collapsed": false
   },
   "source": [
    "Для этой задачи вам будет удобно использовать `Counter` из модуля `collections`. Возможно, мы изучим его подробнее в дальнейших лабах, но пока что давайте посмотрим самый простой вариант, как его можно применить:\n"
   ]
  },
  {
   "cell_type": "code",
   "execution_count": 11,
   "id": "c9d9b4712c625821",
   "metadata": {
    "ExecuteTime": {
     "end_time": "2024-03-08T12:36:35.077120Z",
     "start_time": "2024-03-08T12:36:35.014705Z"
    },
    "collapsed": false
   },
   "outputs": [
    {
     "name": "stdout",
     "output_type": "stream",
     "text": [
      "[('hello', 3), ('hi', 2)]\n"
     ]
    }
   ],
   "source": [
    "from collections import Counter\n",
    "\n",
    "cnt = Counter()\n",
    "words = \"hello world hello\"\n",
    "more_words = \"hi hello halo hi\"\n",
    "cnt.update(words.split(' ')) # запоминает слова и сколько раз каждое использовалось\n",
    "cnt.update(more_words.split(' '))\n",
    "\n",
    "print(cnt.most_common(2)) # печатает 2 самых используемых слова"
   ]
  },
  {
   "cell_type": "markdown",
   "id": "9c16bf47a619d66",
   "metadata": {
    "collapsed": false
   },
   "source": [
    "### Результат\n",
    "\n",
    "Итак, можно вас поздравить! Теперь у вас есть вся необходимая информация о том, как уничтожить крестраж!\n",
    "\n",
    "Не медлите, сделайте это, крестраж действительно существует! Ну а после того, как насладитесь вкусом победы, можете отправить ваше гениальное решение - для этого нужно в файле `potter.py` удалить вызовы ваших функций и запушить его."
   ]
  }
 ],
 "metadata": {
  "kernelspec": {
   "display_name": "Python 3",
   "language": "python",
   "name": "python3"
  },
  "language_info": {
   "codemirror_mode": {
    "name": "ipython",
    "version": 3
   },
   "file_extension": ".py",
   "mimetype": "text/x-python",
   "name": "python",
   "nbconvert_exporter": "python",
   "pygments_lexer": "ipython3",
   "version": "3.11.4"
  }
 },
 "nbformat": 4,
 "nbformat_minor": 5
}
